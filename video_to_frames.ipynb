{
 "nbformat": 4,
 "nbformat_minor": 2,
 "metadata": {
  "language_info": {
   "name": "python",
   "codemirror_mode": {
    "name": "ipython",
    "version": 3
   },
   "version": "3.7.3"
  },
  "orig_nbformat": 2,
  "file_extension": ".py",
  "mimetype": "text/x-python",
  "name": "python",
  "npconvert_exporter": "python",
  "pygments_lexer": "ipython3",
  "version": 3
 },
 "cells": [
  {
   "cell_type": "code",
   "execution_count": 5,
   "metadata": {},
   "outputs": [],
   "source": [
    "import os\n",
    "import cv2"
   ]
  },
  {
   "cell_type": "code",
   "execution_count": 6,
   "metadata": {},
   "outputs": [
    {
     "name": "stdout",
     "output_type": "stream",
     "text": "C:/Users/lenovo/Documents/aws/ergo42-smart-assitant/AWSSearchFaces-master/frames/\nyash_niyatha.mp4\nC:/Users/lenovo/Documents/aws/ergo42-smart-assitant/AWSSearchFaces-master/videos/yash_niyatha.mp4\nread a new frame: True\nread a new frame:True\nread a new frame: True\nread a new frame: True\nread a new frame: True\nread a new frame: True\nread a new frame: True\nread a new frame: True\nread a new frame: True\nread a new frame: True\nread a new frame: True\nread a new frame: True\nread a new frame: True\nread a new frame: True\nread a new frame: True\nread a new frame: True\nread a new frame: True\nread a new frame: True\nread a new frame: True\nread a new frame: True\nread a new frame: True\nread a new frame: True\nread a new frame: True\nread a new frame: True\nread a new frame: True\nread a new frame: True\nread a new frame: True\nread a new frame: True\nread a new frame: True\nread a new frame: True\nread a new frame: True\nread a new frame: True\nread a new frame: True\nread a new frame: True\nread a new frame: True\nread a new frame: True\nread a new frame: True\nread a new frame: True\nread a new frame: True\nread a new frame: True\nread a new frame: True\nread a new frame: True\nread a new frame: True\nread a new frame: True\nread a new frame: True\nread a new frame: True\nread a new frame: True\nread a new frame: True\nread a new frame: True\nread a new frame: True\nread a new frame: True\nread a new frame: True\nread a new frame: True\nread a new frame: True\nread a new frame: True\nread a new frame: True\nread a new frame: True\nread a new frame: True\nread a new frame: True\nread a new frame: True\nread a new frame: True\nread a new frame: True\nread a new frame: True\nread a new frame: True\nread a new frame: True\nread a new frame: True\nread a new frame: True\nread a new frame: True\nread a new frame: True\nread a new frame: True\nread a new frame: True\nread a new frame: True\nread a new frame: True\nread a new frame: True\nread a new frame: True\nread a new frame: True\nread a new frame: True\nread a new frame: True\nread a new frame: True\nread a new frame: True\nread a new frame: True\nread a new frame: True\nread a new frame: True\nread a new frame: True\nread a new frame: True\nread a new frame: True\nread a new frame: True\nread a new frame: True\nread a new frame: True\nread a new frame: True\nread a new frame: True\nread a new frame: True\nread a new frame: True\nread a new frame: True\nread a new frame: True\nread a new frame: True\nread a new frame: True\nread a new frame: True\nread a new frame: True\nread a new frame: True\nread a new frame: True\nread a new frame: True\nread a new frame: True\nread a new frame: True\nread a new frame: True\nread a new frame: True\nread a new frame: True\nread a new frame: True\nread a new frame: True\nread a new frame: True\nread a new frame: True\nread a new frame: True\nread a new frame: True\nread a new frame: True\nread a new frame: True\nread a new frame: True\nread a new frame: True\nread a new frame: True\nread a new frame: True\nread a new frame: True\nread a new frame: True\nread a new frame: True\nread a new frame: True\nread a new frame: True\nread a new frame: True\nread a new frame: True\nread a new frame: True\nread a new frame: True\nread a new frame: True\nread a new frame: True\nread a new frame: True\nread a new frame: True\nread a new frame: True\nread a new frame: True\nread a new frame: True\nread a new frame: True\nread a new frame: True\nread a new frame: True\nread a new frame: True\nread a new frame: True\nread a new frame: True\nread a new frame: True\nread a new frame: True\nread a new frame: True\nread a new frame: True\nread a new frame: True\nread a new frame: True\nread a new frame: True\nread a new frame: True\nread a new frame: True\nread a new frame: True\nread a new frame: True\nread a new frame: True\nread a new frame: True\nread a new frame: True\nread a new frame: True\nread a new frame: True\nread a new frame: True\nread a new frame: True\nread a new frame: True\nread a new frame: True\nread a new frame: True\nread a new frame: True\nread a new frame: True\nread a new frame: True\nread a new frame: True\nread a new frame: True\nread a new frame:True\nread a new frame: True\nread a new frame: True\nread a new frame: True\nread a new frame: True\nread a new frame: True\nread a new frame: True\nread a new frame: True\nread a new frame: True\nread a new frame: True\nread a new frame: True\nread a new frame: True\nread a new frame: True\nread a new frame: True\nread a new frame: True\nread a new frame: True\nread a new frame: True\nread a new frame: True\nread a new frame: True\nread a new frame: True\nread a new frame: True\nread a new frame: True\nread a new frame: True\nread a new frame: True\nread a new frame: True\nread a new frame: True\nread a new frame: True\nread a new frame: True\nread a new frame: True\nread a new frame: True\nread a new frame: True\nread a new frame: True\nread a new frame: True\nread a new frame: True\nread a new frame: True\nread a new frame: False\n"
    }
   ],
   "source": [
    "pathOut = \"C:/Users/lenovo/Documents/aws/ergo42-smart-assitant/AWSSearchFaces-master/frames/\"\n",
    "print(pathOut)\n",
    "count = 0\n",
    "counter = 1\n",
    "listing = os.listdir(\"C:/Users/lenovo/Documents/aws/ergo42-smart-assitant/AWSSearchFaces-master/videos\")\n",
    "for vid in listing:\n",
    "    print(vid)\n",
    "    vid = \"C:/Users/lenovo/Documents/aws/ergo42-smart-assitant/AWSSearchFaces-master/videos\"+\"/\"+vid\n",
    "    print(vid)\n",
    "    cap = cv2.VideoCapture(vid)\n",
    "    count = 0\n",
    "    counter += 1\n",
    "    success = True\n",
    "    while success:\n",
    "        success,image = cap.read()\n",
    "        print('read a new frame:',success)\n",
    "        if count%60 == 0 : ## it captures frames for every 2 seconds\n",
    "             cv2.imwrite(pathOut + 'frame%d.jpg'%count,image)\n",
    "        count+=1"
   ]
  },
  {
   "cell_type": "code",
   "execution_count": null,
   "metadata": {},
   "outputs": [],
   "source": []
  }
 ]
}